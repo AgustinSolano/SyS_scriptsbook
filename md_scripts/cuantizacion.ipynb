{
 "cells": [
  {
   "cell_type": "markdown",
   "metadata": {},
   "source": [
    "# Cuantizacion"
   ]
  },
  {
   "cell_type": "code",
   "execution_count": 2,
   "metadata": {},
   "outputs": [],
   "source": [
    "import numpy as np\n",
    "import matplotlib.pyplot as plt"
   ]
  },
  {
   "cell_type": "markdown",
   "metadata": {},
   "source": [
    "## Funciones para Muestreo Ideal y Tipos de Cuantizacion"
   ]
  },
  {
   "cell_type": "code",
   "execution_count": 3,
   "metadata": {},
   "outputs": [],
   "source": [
    "def mIdeal(senal,t_senal,Ts,Fs_orig):\n",
    "    #tomo una muestra cada Ts y guardo en un vector\n",
    "    senal_mues1 = senal[np.arange(0,len(senal),int(np.round(Ts*Fs_orig)))]\n",
    "    #creo un vector de tiempos asociado a la muestras\n",
    "    t_ideal = t_senal[np.arange(0,len(senal),int(np.round(Ts*Fs_orig)))]\n",
    "    #t_ideal = np.arange(0,len(senal_mues1)*Ts,Ts)\n",
    "    return t_ideal, senal_mues1\n",
    "\n",
    "def redondeo_asimetrico(senal, Vref, L):\n",
    "    delta = 2*Vref/L\n",
    "    senal_q = delta*np.floor(senal/(delta) + 1/2)\n",
    "    # Correccion en caso de que existan valores fuera del rango admitido\n",
    "    indxSaturaPos = np.where(senal>Vref-delta) \n",
    "    senal_q[indxSaturaPos] = Vref-delta\n",
    "    indxSaturaNeg = np.where(senal<-Vref) \n",
    "    senal_q[indxSaturaNeg] = -Vref\n",
    "    return senal_q\n",
    "\n",
    "def redondeo_simetrico(senal, Vref, L):\n",
    "    delta = 2*Vref/L\n",
    "    senal_q = delta*(np.floor(senal/(delta)) + 1/2)\n",
    "    # Correccion en caso de que existan valores fuera del rango admitido\n",
    "    indxSaturaPos = np.where(senal>Vref-delta) \n",
    "    senal_q[indxSaturaPos] = Vref-delta/2\n",
    "    indxSaturaNeg = np.where(senal<-Vref) \n",
    "    senal_q[indxSaturaNeg] = -Vref+delta/2\n",
    "    return senal_q"
   ]
  },
  {
   "cell_type": "markdown",
   "metadata": {},
   "source": [
    "## Muestreo de senal sintetica"
   ]
  },
  {
   "cell_type": "code",
   "execution_count": 8,
   "metadata": {},
   "outputs": [
    {
     "name": "stderr",
     "output_type": "stream",
     "text": [
      "C:\\Users\\Agustin\\Anaconda3\\lib\\site-packages\\ipykernel_launcher.py:22: UserWarning: In Matplotlib 3.3 individual lines on a stem plot will be added as a LineCollection instead of individual lines. This significantly improves the performance of a stem plot. To remove this warning and switch to the new behaviour, set the \"use_line_collection\" keyword argument to True.\n",
      "C:\\Users\\Agustin\\Anaconda3\\lib\\site-packages\\ipykernel_launcher.py:31: UserWarning: In Matplotlib 3.3 individual lines on a stem plot will be added as a LineCollection instead of individual lines. This significantly improves the performance of a stem plot. To remove this warning and switch to the new behaviour, set the \"use_line_collection\" keyword argument to True.\n"
     ]
    },
    {
     "data": {
      "text/plain": [
       "<matplotlib.legend.Legend at 0x1c4de198a08>"
      ]
     },
     "execution_count": 8,
     "metadata": {},
     "output_type": "execute_result"
    }
   ],
   "source": [
    "fs = 1000 #Hz frec muestreo \"analogica\"\n",
    "dur = 3 #segundos\n",
    "t = np.arange(0,dur,1/fs)\n",
    "\n",
    "# generate signal\n",
    "A = 2\n",
    "x = A*np.sin(2*np.pi*t)\n",
    "\n",
    "# Muestreo ideal\n",
    "Ts = 1/35\n",
    "t_ideal, senal_mues1 = mIdeal(x,t,Ts,fs)\n",
    "\n",
    "#Cuantizacion\n",
    "L = 8 #potencia de 2: 2^B\n",
    "Vref = np.max(np.abs(x))\n",
    "senal_mues1_q_RA = redondeo_asimetrico(senal_mues1, Vref, L)\n",
    "senal_mues1_q_RS = redondeo_simetrico(senal_mues1, Vref, L)\n",
    "\n",
    "# plot (quantized) signals\n",
    "fig, (ax1,ax2) = plt.subplots(2,figsize=(17, 7))\n",
    "ax1.plot(t,x, 'k', label=r'Señal analogica')\n",
    "ax1.stem(t_ideal, senal_mues1_q_RA,'r',label=r'Señal muestreada y cuantizada')\n",
    "ax1.set_yticks(np.linspace(-Vref,Vref,L+1), minor=False)\n",
    "ax1.grid()\n",
    "ax1.set_xlabel('t - n*T')\n",
    "ax1.set_ylabel(r'$x(t)$, $x_q[nT]$')\n",
    "ax1.set_title(\"Redondeo Asimetrico\")\n",
    "ax1.legend()\n",
    "\n",
    "ax2.plot(t,x, 'k', label=r'Señal analogica')\n",
    "ax2.stem(t_ideal, senal_mues1_q_RS,'r',label=r'Señal muestreada y cuantizada')\n",
    "ax2.set_yticks(np.linspace(-Vref,Vref,L+1), minor=False)\n",
    "ax2.grid()\n",
    "ax2.set_xlabel('t - n*T')\n",
    "ax2.set_ylabel(r'$x(t)$, $x_q[nT]$')\n",
    "ax2.set_title(\"Redondeo Simetrico\")\n",
    "ax2.legend()\n",
    "\n"
   ]
  }
 ],
 "metadata": {
  "interpreter": {
   "hash": "51e7666363a7117f425549ad16e0bb5f6790eab8c19296ad810c2e6a5ba1a58a"
  },
  "kernelspec": {
   "display_name": "Python 3.9.7 ('base')",
   "language": "python",
   "name": "python3"
  },
  "language_info": {
   "codemirror_mode": {
    "name": "ipython",
    "version": 3
   },
   "file_extension": ".py",
   "mimetype": "text/x-python",
   "name": "python",
   "nbconvert_exporter": "python",
   "pygments_lexer": "ipython3",
   "version": "3.7.4"
  },
  "orig_nbformat": 4
 },
 "nbformat": 4,
 "nbformat_minor": 2
}
