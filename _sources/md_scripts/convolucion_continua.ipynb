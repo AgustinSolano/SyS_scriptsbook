{
 "cells": [
  {
   "cell_type": "markdown",
   "metadata": {},
   "source": [
    "# Convolucion continua"
   ]
  },
  {
   "cell_type": "code",
   "execution_count": 40,
   "metadata": {},
   "outputs": [],
   "source": [
    "%matplotlib qt5"
   ]
  },
  {
   "cell_type": "code",
   "execution_count": 41,
   "metadata": {
    "id": "51LbncYTP1ee"
   },
   "outputs": [],
   "source": [
    "import numpy as np\n",
    "from matplotlib import pyplot as plt\n",
    "from matplotlib import rc\n",
    "from matplotlib.animation import FuncAnimation\n",
    "import scipy.integrate"
   ]
  },
  {
   "cell_type": "markdown",
   "metadata": {},
   "source": [
    "### Definicion de funcion para simular y animar una convolucion continua"
   ]
  },
  {
   "cell_type": "code",
   "execution_count": 42,
   "metadata": {},
   "outputs": [],
   "source": [
    "def showConvolution(t0,f1, f2):\n",
    "    # Calculate the overall convolution result using Simpson integration\n",
    "    convolution = np.zeros(len(t))\n",
    "    for n, t_ in enumerate(t):\n",
    "        prod = lambda tau: f1(tau) * f2(t_-tau)\n",
    "        convolution[n] = scipy.integrate.simps(prod(t), t)\n",
    "\n",
    "    # Create the shifted and flipped function\n",
    "    f_shift = lambda t: f2(t0-t)\n",
    "    prod = lambda tau: f1(tau) * f2(t0-tau)\n",
    "\n",
    "    # Plot the curves\n",
    "    plt.gcf().clear() # il\n",
    "\n",
    "    plt.subplot(211)\n",
    "    plt.gca().set_ymargin(0.05) # il\n",
    "    plt.plot(t, f1(t), label=r'$f_1(\\tau)$')\n",
    "    plt.plot(t, f_shift(t), label=r'$f_2(t_0-\\tau)$')\n",
    "    plt.fill(t, prod(t), color='r', alpha=0.5, edgecolor='black', hatch='//') # il\n",
    "    plt.plot(t, prod(t), 'r-', label=r'$f_1(\\tau)f_2(t_0-\\tau)$')\n",
    "    plt.grid(True); plt.xlabel(r'$\\tau$'); plt.ylabel(r'$x(\\tau)$') # il\n",
    "    plt.legend(fontsize=10) # il\n",
    "    plt.text(-4, 0.6, '$t_0=%.2f$' % t0, bbox=dict(fc='white')) # il\n",
    "\n",
    "    # plot the convolution curve\n",
    "    plt.subplot(212)\n",
    "    plt.gca().set_ymargin(0.05) # il\n",
    "    plt.plot(t, convolution, label='$(f_1*f_2)(t)$')\n",
    "    plt.ylim((np.min(convolution)-0.1, np.max(convolution)*1.1))\n",
    "\n",
    "    # recalculate the value of the convolution integral at the current time-shift t0\n",
    "    current_value = scipy.integrate.simps(prod(t), t)\n",
    "    plt.plot(t0, current_value, 'ro')  # plot the point\n",
    "    plt.grid(True); plt.xlabel('$t$'); plt.ylabel('$(f_1*f_2)(t)$') # il\n",
    "    plt.legend(fontsize=10) # il\n",
    "    plt.show() # il"
   ]
  },
  {
   "cell_type": "markdown",
   "metadata": {},
   "source": [
    "## Ejemplo #1"
   ]
  },
  {
   "cell_type": "code",
   "execution_count": 46,
   "metadata": {},
   "outputs": [
    {
     "data": {
      "text/plain": [
       "<matplotlib.legend.Legend at 0x1764c3a90>"
      ]
     },
     "execution_count": 46,
     "metadata": {},
     "output_type": "execute_result"
    }
   ],
   "source": [
    "T = 5    # tiempo total\n",
    "Fs = 50  # frecuencia de muestreo\n",
    "t = np.arange(-T, T, 1/Fs)  # vector de tiempos\n",
    "\n",
    "# Define the unitary pulse signal\n",
    "def unitary_pulse(t, start_time, duration):\n",
    "    return (t >= start_time) & (t < start_time + duration)\n",
    "\n",
    "# Create the unitary pulse signal starting at t=0 and lasting for 1 second\n",
    "pulse_start_time = -1\n",
    "pulse_duration = 2\n",
    "f1 = lambda t: unitary_pulse(t, pulse_start_time, pulse_duration)\n",
    "f2 = lambda t: unitary_pulse(t, pulse_start_time, pulse_duration)\n",
    "\n",
    "t0 = np.arange(-3.0,3.0, 0.05)\n",
    "\n",
    "# Calculate the overall convolution result using Simpson integration\n",
    "convolution = np.zeros(len(t))\n",
    "for n, t_ in enumerate(t):\n",
    "    prod = lambda tau: f1(tau) * f2(t_-tau)\n",
    "    convolution[n] = scipy.integrate.simps(prod(t), t)\n",
    "\n",
    "# Plot de la senal\n",
    "fig1, ax1 = plt.subplots(2,1)\n",
    "fig1.set_size_inches(10, 8)\n",
    "fig1.gca().set_ymargin(0.05)\n",
    "ax1[0].plot(t, f1(t), label=r'$f_1(\\tau)$')\n",
    "ax1[0].plot(t, f2(t), label=r'$f_2(\\tau)$')\n",
    "ax1[0].legend(fontsize=10)\n",
    "ax1[0].grid(True)\n",
    "ax1[0].set_ylabel(\"Amplitud\", fontsize=12)\n",
    "#ax1[0].text(-4, 0.6, '$t_0=%.2f$' % t0, bbox=dict(fc='white')) # il\n",
    "ax1[1].set_xlabel(\"Tiempo\", fontsize=12)\n",
    "ax1[1].set_ylabel(\"Amplitud\", fontsize=12)\n",
    "ax1[1].grid(True)\n",
    "ax1[1].plot(t, convolution, label=r'$(f_1*f_2)(t)$')\n",
    "ax1[1].legend(fontsize=10)\n"
   ]
  },
  {
   "cell_type": "markdown",
   "metadata": {},
   "source": [
    "### Animacion de la convolucion"
   ]
  },
  {
   "cell_type": "code",
   "execution_count": 47,
   "metadata": {},
   "outputs": [],
   "source": [
    "fig = plt.figure(figsize=(8,3))\n",
    "anim = FuncAnimation(fig, showConvolution, frames=t0, fargs=(f1,f2),interval=80)\n",
    "\n",
    "plt.show()"
   ]
  },
  {
   "cell_type": "markdown",
   "metadata": {},
   "source": [
    "## Ejemplo #2"
   ]
  },
  {
   "cell_type": "code",
   "execution_count": 48,
   "metadata": {},
   "outputs": [
    {
     "data": {
      "text/plain": [
       "<matplotlib.legend.Legend at 0x1485e0af0>"
      ]
     },
     "execution_count": 48,
     "metadata": {},
     "output_type": "execute_result"
    }
   ],
   "source": [
    "T = 5    # tiempo total\n",
    "Fs = 50  # frecuencia de muestreo\n",
    "t = np.arange(-T, T, 1/Fs)  # vector de tiempos\n",
    "f1 = lambda t: np.maximum(0, 1-abs(t))\n",
    "f2 = lambda t: (t>0) * np.exp(-2*t)\n",
    "\n",
    "t0 = np.arange(-2.0,2.0, 0.05)\n",
    "\n",
    "# Calculate the overall convolution result using Simpson integration\n",
    "convolution = np.zeros(len(t))\n",
    "for n, t_ in enumerate(t):\n",
    "    prod = lambda tau: f1(tau) * f2(t_-tau)\n",
    "    convolution[n] = scipy.integrate.simps(prod(t), t)\n",
    "\n",
    "# Plot de la senal\n",
    "fig1, ax1 = plt.subplots(2,1)\n",
    "fig1.set_size_inches(10, 8)\n",
    "fig1.gca().set_ymargin(0.05)\n",
    "ax1[0].plot(t, f1(t), label=r'$f_1(\\tau)$')\n",
    "ax1[0].plot(t, f2(t), label=r'$f_2(\\tau)$')\n",
    "ax1[0].legend(fontsize=10)\n",
    "ax1[0].grid(True)\n",
    "ax1[0].set_ylabel(\"Amplitud\", fontsize=12)\n",
    "#ax1[0].text(-4, 0.6, '$t_0=%.2f$' % t0, bbox=dict(fc='white')) # il\n",
    "ax1[1].set_xlabel(\"Tiempo\", fontsize=12)\n",
    "ax1[1].set_ylabel(\"Amplitud\", fontsize=12)\n",
    "ax1[1].grid(True)\n",
    "ax1[1].plot(t, convolution, label=r'$(f_1*f_2)(t)$')\n",
    "ax1[1].legend(fontsize=10)"
   ]
  },
  {
   "cell_type": "code",
   "execution_count": 49,
   "metadata": {},
   "outputs": [],
   "source": [
    "fig = plt.figure(figsize=(8,3))\n",
    "anim = FuncAnimation(fig, showConvolution, frames=t0, fargs=(f1,f2),interval=80)\n",
    "\n",
    "plt.show()"
   ]
  },
  {
   "cell_type": "markdown",
   "metadata": {},
   "source": [
    "Ref: https://stackoverflow.com/questions/56095788/convolution-integral-export-as-animation"
   ]
  }
 ],
 "metadata": {
  "colab": {
   "name": "reconstruccion_seniales_interp_sinc.ipynb",
   "provenance": []
  },
  "kernelspec": {
   "display_name": "Python 3 (ipykernel)",
   "language": "python",
   "name": "python3"
  },
  "language_info": {
   "codemirror_mode": {
    "name": "ipython",
    "version": 3
   },
   "file_extension": ".py",
   "mimetype": "text/x-python",
   "name": "python",
   "nbconvert_exporter": "python",
   "pygments_lexer": "ipython3",
   "version": "3.10.9"
  }
 },
 "nbformat": 4,
 "nbformat_minor": 4
}
