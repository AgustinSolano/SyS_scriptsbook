{
 "cells": [
  {
   "cell_type": "markdown",
   "metadata": {},
   "source": [
    "# Tipos de Muestreo"
   ]
  },
  {
   "cell_type": "code",
   "execution_count": 2,
   "metadata": {
    "id": "yLmYzHYHPz2F"
   },
   "outputs": [],
   "source": [
    "import numpy as np\n",
    "import matplotlib.pyplot as plt\n",
    "import scipy.signal as signal\n",
    "\n",
    "import warnings\n",
    "warnings.filterwarnings(\"ignore\")"
   ]
  },
  {
   "cell_type": "markdown",
   "metadata": {
    "id": "PY_jyZqEsOIl"
   },
   "source": [
    "## Funciones para el Muestreo"
   ]
  },
  {
   "cell_type": "code",
   "execution_count": 3,
   "metadata": {
    "id": "DJYQ7pEM267L"
   },
   "outputs": [],
   "source": [
    "def mIdeal(senal,t_senal,Ts,Fs_orig):\n",
    "    #tomo una muestra cada Ts y guardo en un vector\n",
    "    senal_mues1 = senal[np.arange(0,len(senal),int(np.round(Ts*Fs_orig)))]\n",
    "    #creo un vector de tiempos asociado a la muestras\n",
    "    t_ideal = t_senal[np.arange(0,len(senal),int(np.round(Ts*Fs_orig)))]\n",
    "    #t_ideal = np.arange(0,len(senal_mues1)*Ts,Ts)\n",
    "    return t_ideal, senal_mues1"
   ]
  },
  {
   "cell_type": "markdown",
   "metadata": {
    "id": "UTAA_c9bVk9o"
   },
   "source": [
    "## Funcion para la Transformada de Fourier"
   ]
  },
  {
   "cell_type": "code",
   "execution_count": 4,
   "metadata": {
    "id": "DKGuVDj3VnRF"
   },
   "outputs": [],
   "source": [
    "def TFourier(signal,fs,unidadesx):#unidadesx = 0 en Hz, 1 rad/s\n",
    "    FFT = abs(np.fft.fftshift(np.fft.fft(signal)))\n",
    "    nFFT = len(FFT)\n",
    "    fFFT = np.arange(-nFFT/2,nFFT/2)*(fs/nFFT)\n",
    "    if unidadesx == 1:\n",
    "        fFFT= fFFT*2*np.pi\n",
    "    return fFFT,FFT"
   ]
  },
  {
   "cell_type": "markdown",
   "metadata": {
    "id": "vRApiqFUE07J"
   },
   "source": [
    "## Señales"
   ]
  },
  {
   "cell_type": "code",
   "execution_count": 5,
   "metadata": {
    "id": "6j91sQ3dEqqL"
   },
   "outputs": [],
   "source": [
    "# Se lavanta senial de un archivo separado por comas (.csv)\n",
    "path_ECG = './external_files/ECG.csv'\n",
    "senal_ECG = np.genfromtxt(path_ECG, delimiter=',')"
   ]
  },
  {
   "cell_type": "code",
   "execution_count": 6,
   "metadata": {
    "id": "LfV6l6cAGs2U"
   },
   "outputs": [],
   "source": [
    "fs_ECG = 1000 # Hz: frecuencia  la cual fueron muestrados los datos originales, que se simulan como analogicos\n",
    "t_ECG = np.arange(0,len(senal_ECG)/fs_ECG,1/fs_ECG)\n",
    "\n",
    "# Calculo de la T.Fourier\n",
    "fFFT_ECG,FFT_ECG = TFourier(senal_ECG,fs_ECG,0)"
   ]
  },
  {
   "cell_type": "code",
   "execution_count": 7,
   "metadata": {
    "colab": {
     "base_uri": "https://localhost:8080/",
     "height": 585
    },
    "executionInfo": {
     "elapsed": 905,
     "status": "ok",
     "timestamp": 1630519747615,
     "user": {
      "displayName": "SOFÍA CASTELAO",
      "photoUrl": "",
      "userId": "06131527400451509657"
     },
     "user_tz": 180
    },
    "id": "XG_DLTG-VqBT",
    "outputId": "921ee236-2e39-482a-cce6-242eceaa5e83"
   },
   "outputs": [],
   "source": [
    "# Graficacion de la senial y su espectro\n",
    "fig, (ax1, ax2) = plt.subplots(2, 1, figsize=(16, 8))\n",
    "ax1.plot(t_ECG,senal_ECG)\n",
    "ax1.set_title(\"Señal Original de ECG\")\n",
    "ax1.set_xlabel(\"Tiempo [s]\")\n",
    "ax1.set_ylabel(\"Amplitud\")\n",
    "ax1.grid(linestyle='--')\n",
    "ax2.plot(fFFT_ECG,FFT_ECG)\n",
    "ax2.set_xlim([-60,60])\n",
    "ax2.set_title(\"Transformada de Fourier de señal de ECG\")\n",
    "ax2.set_xlabel(\"Frecuencia [Hz]\")\n",
    "ax2.set_ylabel(\"Amplitud\")\n",
    "ax2.grid(linestyle='--')\n",
    "plt.tight_layout()"
   ]
  },
  {
   "cell_type": "markdown",
   "metadata": {},
   "source": [
    "## Muestreo Ideal"
   ]
  },
  {
   "cell_type": "code",
   "execution_count": 11,
   "metadata": {},
   "outputs": [],
   "source": [
    "# Identifico la frecuencia maxima de la \n",
    "fmax_ECG = 60 #a partir del espectro veo que la frecuencia \n",
    "fs_muest_ECG = 2*fmax_ECG*1.25\n",
    "Ts_ECG = 1/fs_muest_ECG"
   ]
  },
  {
   "cell_type": "code",
   "execution_count": 12,
   "metadata": {},
   "outputs": [],
   "source": [
    "# Se realiza el muestreo ideal\n",
    "t_ideal, sign_ideal = mIdeal(senal_ECG,t_ECG,Ts_ECG,fs_ECG)\n",
    "\n",
    "t_min = -0.1\n",
    "t_max = 3.0\n",
    "\n",
    "# Graficacion\n",
    "fig, (ax1,ax2) = plt.subplots(2, 1, figsize=(16, 12))\n",
    "ax1.stem(t_ideal,sign_ideal)\n",
    "ax1.set_xlim(t_min,t_max)\n",
    "ax1.set_title(\"Señal muestreada idealmente\")\n",
    "ax1.set_xlabel(\"Tiempo [s]\")\n",
    "ax1.set_ylabel(\"Amplitud\")\n",
    "ax1.grid(linestyle='--')\n",
    "\n",
    "ax2.stem(t_ideal,sign_ideal)\n",
    "ax2.plot(t_ECG,senal_ECG,'--r')\n",
    "ax2.set_xlim(t_min,t_max)\n",
    "ax2.set_title(\"Señal Muestreada y Original\")\n",
    "ax2.set_xlabel(\"Tiempo [s]\")\n",
    "ax2.set_ylabel(\"Amplitud\")\n",
    "ax2.grid(linestyle='--')\n",
    "ax2.legend(['Señal Original','Muestreo ideal'])\n",
    "\n",
    "fig2, (ax3) = plt.subplots(1, 1, figsize=(16, 12))\n",
    "ax3.stem(t_ideal,sign_ideal)\n",
    "ax3.plot(t_ECG,senal_ECG,'--r')\n",
    "ax3.set_xlim(0.5,1.1)\n",
    "ax3.set_title(\"Señal Muestreada y Original\")\n",
    "ax3.set_xlabel(\"Tiempo [s]\")\n",
    "ax3.set_ylabel(\"Amplitud\")\n",
    "ax3.grid(linestyle='--')\n",
    "ax3.legend(['Señal Original','Muestreo ideal'])\n",
    "\n",
    "plt.show()"
   ]
  }
 ],
 "metadata": {
  "colab": {
   "collapsed_sections": [],
   "name": "Clase5.ipynb",
   "provenance": []
  },
  "kernelspec": {
   "display_name": "Python 3 (ipykernel)",
   "language": "python",
   "name": "python3"
  },
  "language_info": {
   "codemirror_mode": {
    "name": "ipython",
    "version": 3
   },
   "file_extension": ".py",
   "mimetype": "text/x-python",
   "name": "python",
   "nbconvert_exporter": "python",
   "pygments_lexer": "ipython3",
   "version": "3.7.4"
  }
 },
 "nbformat": 4,
 "nbformat_minor": 4
}
