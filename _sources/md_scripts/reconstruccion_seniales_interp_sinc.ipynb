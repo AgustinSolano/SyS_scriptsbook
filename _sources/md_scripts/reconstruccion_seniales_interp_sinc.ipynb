{
 "cells": [
  {
   "cell_type": "code",
   "execution_count": 2,
   "metadata": {
    "id": "51LbncYTP1ee"
   },
   "outputs": [],
   "source": [
    "import numpy as np\n",
    "from matplotlib import pyplot as plt\n",
    "from matplotlib import rc\n",
    "from matplotlib.animation import FuncAnimation"
   ]
  },
  {
   "cell_type": "markdown",
   "metadata": {
    "id": "sd6f71akP1ef"
   },
   "source": [
    "# Simulación del **muestreo y reconstrucción** ideal de una señal continua"
   ]
  },
  {
   "cell_type": "markdown",
   "metadata": {
    "id": "2BCp_zeMP1eg"
   },
   "source": [
    "## Señal continua\n",
    "<font size=6>\n",
    "Simulemos una señal continua $x(t)$ como una suma de senoidales\n",
    "<font>"
   ]
  },
  {
   "cell_type": "code",
   "execution_count": 3,
   "metadata": {
    "id": "FoUQam8gP1eg",
    "outputId": "5daf581a-d124-4f07-cd36-415945330255"
   },
   "outputs": [
    {
     "data": {
      "text/plain": [
       "[<matplotlib.lines.Line2D at 0x16a7611f908>]"
      ]
     },
     "execution_count": 3,
     "metadata": {},
     "output_type": "execute_result"
    }
   ],
   "source": [
    "DURATION = 5  # Segs\n",
    "SAMPLE_RATE = 1000 # Hertz\n",
    "\n",
    "#Vector de tiempos\n",
    "t = np.arange(0,DURATION, 1/SAMPLE_RATE)\n",
    "#print(t)\n",
    "\n",
    "FRECUENCY = [1.0, 2.0, 5.0] # Hertz\n",
    "AMPL = [1,3,2]\n",
    "#print(t)\n",
    "x_cont = np.zeros((len(t)))\n",
    "for i in range(3):\n",
    "    x_cont = x_cont + AMPL[i]*np.sin(2 * np.pi * FRECUENCY[i] * t) \n",
    "#print(x_cont)\n",
    "\n",
    "# Plot de la senal\n",
    "fig1, ax1 = plt.subplots()\n",
    "plt.rcParams.update({'font.size':15})\n",
    "ax1.set_xlabel(\"Tiempo\", fontsize=20)\n",
    "ax1.set_ylabel(\"Amplitud\", fontsize=20)\n",
    "ax1.grid(True)\n",
    "ax1.plot(t, x_cont)"
   ]
  },
  {
   "cell_type": "code",
   "execution_count": 4,
   "metadata": {
    "id": "zZ12HzEVP1ei",
    "outputId": "9179f17a-64aa-4fe1-fc8a-9ff316f7c725"
   },
   "outputs": [
    {
     "name": "stdout",
     "output_type": "stream",
     "text": [
      "(5000,)\n"
     ]
    }
   ],
   "source": [
    "TFour = np.fft.fft(x_cont)/len(x_cont)\n",
    "freq = np.fft.fftfreq(t.shape[-1], 1/SAMPLE_RATE)\n",
    "\n",
    "figTF, axTF = plt.subplots()\n",
    "axTF.stem(freq,np.abs(TFour),use_line_collection=True)\n",
    "axTF.set_xlabel(\"Frecuencia [Hz]\", fontsize=20)\n",
    "axTF.set_ylabel(\"Magnitud\", fontsize=20)\n",
    "axTF.set_xlim(-15,15)\n",
    "print(x_cont.shape)"
   ]
  },
  {
   "cell_type": "markdown",
   "metadata": {
    "id": "BzAymBGeP1ej"
   },
   "source": [
    "## Muestreo\n",
    "<font size=6>\n",
    "Realicemos el muestreo ideal de señal.   \n",
    "<font>"
   ]
  },
  {
   "cell_type": "code",
   "execution_count": 5,
   "metadata": {
    "id": "i9d0Oh2HP1ej",
    "outputId": "8db5c27c-6f9d-4ed4-b8ba-73762f6762ee"
   },
   "outputs": [
    {
     "name": "stdout",
     "output_type": "stream",
     "text": [
      "Frecuencia de Muestreo    12.50 [Hz] :\n",
      "Periodo de Muestreo     0.08 [seg] :\n"
     ]
    },
    {
     "data": {
      "text/plain": [
       "<matplotlib.legend.Legend at 0x16a71ab5cc8>"
      ]
     },
     "execution_count": 5,
     "metadata": {},
     "output_type": "execute_result"
    }
   ],
   "source": [
    "F_Ny =  2*np.max(FRECUENCY)\n",
    "#print(\"Frecuencia de Nyquist {0:8.2f} [Hz] :\".format(F_Ny))\n",
    "Fs = 1.25*F_Ny\n",
    "print(\"Frecuencia de Muestreo {0:8.2f} [Hz] :\".format(Fs))\n",
    "print(\"Periodo de Muestreo {0:8.2f} [seg] :\".format(1/Fs))\n",
    "\n",
    "# Vector de muestras\n",
    "n = np.arange(0,DURATION, 1/Fs)\n",
    "\n",
    "x_dig = np.zeros((len(n)))\n",
    "for i in range(3):\n",
    "    x_dig = x_dig + AMPL[i]*np.sin(2 * np.pi * FRECUENCY[i] * n) \n",
    "#print(x_dig)\n",
    "\n",
    "fig2, ax2 = plt.subplots()\n",
    "# Muestras de las senial\n",
    "ax2.stem(n, x_dig,use_line_collection=True)\n",
    "# Senial continua original\n",
    "#ax2.plot(t, x_cont,'r--',alpha=.5)\n",
    "# add lables\n",
    "ax2.set_xlabel(\"Tiempo\", fontsize=16)\n",
    "ax2.set_ylabel(\"Amplttid\", fontsize=16)\n",
    "ax2.grid(True)\n",
    "ax2.legend(['Continua','Muestreada'])"
   ]
  },
  {
   "cell_type": "markdown",
   "metadata": {
    "id": "yJ-aKnjQP1ek"
   },
   "source": [
    "<font size=6>\n",
    "Creamos un conjunto de funciones $sinc(t/T_{s})$ escaladas y desplazadas temporalmente\n",
    "<font>"
   ]
  },
  {
   "cell_type": "code",
   "execution_count": 6,
   "metadata": {
    "id": "aujL_lUhP1el",
    "outputId": "c2cc5e5b-67ce-4073-c844-dd4beebdeb80"
   },
   "outputs": [
    {
     "name": "stdout",
     "output_type": "stream",
     "text": [
      "(64, 5000)\n"
     ]
    }
   ],
   "source": [
    "t_sinc = np.arange(-5,5, 1/500)\n",
    "signal = np.ndarray((len(n)+1,len(t_sinc)))\n",
    "i = 0\n",
    "for iter in zip(n,x_dig):\n",
    "    #print(iter[0],iter[1])\n",
    "    signal[i,] = iter[1]*np.sinc((t_sinc-iter[0])*Fs)\n",
    "    i+=1\n",
    "\n",
    "print(signal.shape)"
   ]
  },
  {
   "cell_type": "markdown",
   "metadata": {
    "id": "l4z7kDkZP1em"
   },
   "source": [
    "<font size=6>\n",
    "Animación de la reconstrucción ideal:\n",
    "<font>"
   ]
  },
  {
   "cell_type": "code",
   "execution_count": 7,
   "metadata": {
    "id": "8mg0CfC4P1em"
   },
   "outputs": [],
   "source": [
    "figFinal, axFin = plt.subplots()\n",
    "figFinal.set_size_inches(20, 10)\n",
    "# Muestras de las senial\n",
    "axFin.stem(n, x_dig,use_line_collection=True)\n",
    "# Senial continua original\n",
    "axFin.plot(t, x_cont,'r--')\n",
    "#Reconstruccion\n",
    "#sinc_plot, = axFin.plot(t_sinc, signal[0,],'g-',alpha=0.3)\n",
    "\n",
    "# add lables\n",
    "axFin.set_xlabel(\"Tiempo\", fontsize=16)\n",
    "axFin.set_ylabel(\"Amplttid\", fontsize=16)\n",
    "axFin.grid(True)\n",
    "axFin.set_ylim(-6,6)\n",
    "axFin.set_xlim(1,2.5)\n",
    "\n",
    "plt.show()\n",
    "\n",
    "def animation_frame(i):\n",
    "    axFin.plot(t_sinc, signal[i,],'g-',alpha=0.3)\n",
    "    #sinc_plot.set_ydata(signal[i,])\n",
    "    \n",
    "animation = FuncAnimation(figFinal, func=animation_frame, frames=np.arange(0,signal.shape[0]), interval=500, repeat = False)\n"
   ]
  },
  {
   "cell_type": "code",
   "execution_count": 8,
   "metadata": {
    "id": "hICMuXxzP1en",
    "outputId": "b3e184d5-2bfb-4862-9949-f04f3985ddfe"
   },
   "outputs": [
    {
     "data": {
      "text/plain": [
       "[<matplotlib.lines.Line2D at 0x16a7463f6c8>]"
      ]
     },
     "execution_count": 8,
     "metadata": {},
     "output_type": "execute_result"
    }
   ],
   "source": [
    "#Incorporo al grafico anterior la suma de todas las sinc\n",
    "axFin.plot(t_sinc, np.sum(signal,axis=0),'k-')"
   ]
  },
  {
   "cell_type": "code",
   "execution_count": 9,
   "metadata": {
    "id": "jhTtcojEP1en",
    "outputId": "a2f973da-7194-4925-f28e-96ff738f0ac2"
   },
   "outputs": [
    {
     "data": {
      "text/plain": [
       "(1, 2.5)"
      ]
     },
     "execution_count": 9,
     "metadata": {},
     "output_type": "execute_result"
    }
   ],
   "source": [
    "fig4, ax4 = plt.subplots(2,1, sharex=True, sharey=True)\n",
    "# Muestras de las senial\n",
    "ax4[0].stem(n, x_dig,use_line_collection=True)\n",
    "# Senial continua original\n",
    "ax4[0].plot(t, x_cont,'r--')\n",
    "# add lables\n",
    "ax4[0].set_xlabel(\"Tiempo\", fontsize=16)\n",
    "ax4[0].set_ylabel(\"Amplttid\", fontsize=16)\n",
    "ax4[0].grid(True)\n",
    "#ax4.legend(['x1','y1'])\n",
    "ax4[0].set_ylim(-6,6)\n",
    "ax4[0].set_xlim(1,2.5)\n",
    "\n",
    "for i in range(signal.shape[0]):\n",
    "    ax4[0].plot(t_sinc, signal[i,],'g-',alpha=0.2)\n",
    "    \n",
    "ax4[0].plot(t_sinc, np.sum(signal,axis=0),'k-')\n",
    "\n",
    "# Muestras de las senial\n",
    "ax4[1].stem(n, x_dig,use_line_collection=True)\n",
    "# Senial continua original\n",
    "ax4[1].plot(t, x_cont,'r--')\n",
    "# Senial reconstruida\n",
    "ax4[1].plot(t_sinc, np.sum(signal,axis=0),'k-')\n",
    "# add lables\n",
    "ax4[1].set_xlabel(\"Tiempo\", fontsize=16)\n",
    "ax4[1].set_ylabel(\"Amplttid\", fontsize=16)\n",
    "ax4[1].grid(True)\n",
    "#ax4.legend(['x1','y1'])\n",
    "ax4[1].set_ylim(-6,6)\n",
    "ax4[1].set_xlim(1,2.5)"
   ]
  },
  {
   "cell_type": "code",
   "execution_count": null,
   "metadata": {
    "id": "X-30Ec1WP1eo",
    "outputId": "85eff35c-49cb-49d7-b752-f206f5b068a6"
   },
   "outputs": [
    {
     "name": "stderr",
     "output_type": "stream",
     "text": [
      "MovieWriter imagemagick unavailable; trying to use <class 'matplotlib.animation.PillowWriter'> instead.\n"
     ]
    }
   ],
   "source": [
    "# Para guardar la animacion como GIF\n",
    "# animation.save('ReconstruccionIdeal.gif', writer='imagemagick', fps=4, dpi=150)"
   ]
  }
 ],
 "metadata": {
  "colab": {
   "name": "reconstruccion_seniales_interp_sinc.ipynb",
   "provenance": []
  },
  "kernelspec": {
   "display_name": "Python 3 (ipykernel)",
   "language": "python",
   "name": "python3"
  },
  "language_info": {
   "codemirror_mode": {
    "name": "ipython",
    "version": 3
   },
   "file_extension": ".py",
   "mimetype": "text/x-python",
   "name": "python",
   "nbconvert_exporter": "python",
   "pygments_lexer": "ipython3",
   "version": "3.7.4"
  }
 },
 "nbformat": 4,
 "nbformat_minor": 4
}
