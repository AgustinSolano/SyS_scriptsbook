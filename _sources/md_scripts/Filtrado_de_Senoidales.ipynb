{
 "cells": [
  {
   "cell_type": "markdown",
   "metadata": {},
   "source": [
    "# Filtrado de senoidales"
   ]
  },
  {
   "cell_type": "code",
   "execution_count": 29,
   "metadata": {},
   "outputs": [],
   "source": [
    "%matplotlib qt5\n",
    "import numpy as np\n",
    "from matplotlib import pyplot as plt"
   ]
  },
  {
   "cell_type": "code",
   "execution_count": 30,
   "metadata": {},
   "outputs": [],
   "source": [
    "def plot_resp_freq(freq, H_w, tipo='lineal'):\n",
    "\n",
    "    if tipo == 'lineal':\n",
    "        #Calculos de fase y magnitud\n",
    "        mag_Hw = np.abs(H_w)\n",
    "        fase_Hw = np.angle(H_w)\n",
    "\n",
    "        # Figura con dos subplots\n",
    "        fig, ax = plt.subplots(1,2)\n",
    "        fig.suptitle('Respuesta en Frecuencia', fontsize=22)\n",
    "        fig.set_size_inches(20, 10)\n",
    "        ax[0].plot(freq,mag_Hw)\n",
    "        ax[1].plot(freq,fase_Hw)\n",
    "        # add lables\n",
    "        ax[0].set_xlabel(\"Frecuencia  \\u03C9\", fontsize=16)\n",
    "        ax[0].set_ylabel(\"Magnitud |H(j*\\u03C9)|\", fontsize=16)\n",
    "        ax[1].set_ylabel(\"Fase \\u2220H(j*\\u03C9)\", fontsize=16)\n",
    "        ax[1].set_xlabel(\"Frecuencia \\u03C9\", fontsize=16)\n",
    "        ax[0].grid(True)\n",
    "        ax[1].grid(True)\n",
    "        plt.show()\n",
    "\n",
    "    elif tipo == 'bode':\n",
    "        #Transformacion a decibeles\n",
    "        mag_Hw_dB = 20*np.log10(np.abs(H_w))\n",
    "        fase_Hw = np.angle(H_w)*180/np.pi\n",
    "\n",
    "        #Conservo solo lo que corresponde a frecuencias positivas\n",
    "        indx = np.where(freq >= 0.01)\n",
    "        mag_Hw_dB = mag_Hw_dB[indx]\n",
    "        fase_Hw = fase_Hw[indx]\n",
    "        freq = freq[indx]\n",
    "\n",
    "        # Figura con dos subplots\n",
    "        fig, ax = plt.subplots(1,2)\n",
    "        fig.suptitle('Respuesta en Frecuencia', fontsize=22)\n",
    "        fig.set_size_inches(20, 10)\n",
    "        ax[0].plot(freq,mag_Hw_dB)\n",
    "        ax[0].semilogx()\n",
    "        ax[1].plot(freq,fase_Hw)\n",
    "        ax[1].semilogx()\n",
    "        # add lables\n",
    "        ax[0].set_xlabel(\"Frecuencia  \\u03C9\", fontsize=16)\n",
    "        ax[0].set_ylabel(\"Magnitud 20*log10|H(j*\\u03C9)| [dB]\", fontsize=16)\n",
    "        ax[1].set_ylabel(\"Fase \\u2220H(j*\\u03C9)\", fontsize=16)\n",
    "        ax[1].set_xlabel(\"Frecuencia \\u03C9\", fontsize=16)\n",
    "        ax[0].grid(True)\n",
    "        ax[1].grid(True)\n",
    "        plt.show()"
   ]
  },
  {
   "attachments": {},
   "cell_type": "markdown",
   "metadata": {},
   "source": [
    "## Filtro Pasa-Bajos\n",
    "<font size=6>\n",
    "\n",
    "Suponga un filtro con la siguiente función de transferencia:  $H(s) = \\frac{{\\omega}_c}{(s+{\\omega}_c)} = \\frac{(2*\\pi*10)}{(s+2*\\pi*10)}$\n",
    "    \n",
    "La respuesta en frecuencia del filtro es: $H(j\\omega) = \\frac{(2*\\pi*10)}{(j\\omega+2*\\pi*10)}$    \n",
    "\n",
    "Cual es la frecuencia de corte ${\\omega}_c$?\n",
    "\n",
    "<font>"
   ]
  },
  {
   "cell_type": "code",
   "execution_count": 31,
   "metadata": {},
   "outputs": [],
   "source": [
    "w = np.arange(-7000,7000, 0.1)\n",
    "H_LP = 2*np.pi*10/(1j*w + 2*np.pi*10)"
   ]
  },
  {
   "cell_type": "code",
   "execution_count": 33,
   "metadata": {},
   "outputs": [
    {
     "name": "stdout",
     "output_type": "stream",
     "text": [
      "62.83185307179586\n"
     ]
    }
   ],
   "source": [
    "print(2*np.pi*10)"
   ]
  },
  {
   "cell_type": "markdown",
   "metadata": {},
   "source": [
    "<font size=4> Respuesta en frecuencia del filtro <font>"
   ]
  },
  {
   "cell_type": "code",
   "execution_count": 49,
   "metadata": {},
   "outputs": [],
   "source": [
    "plot_resp_freq(w, H_LP, 'lineal')\n",
    "plot_resp_freq(w, H_LP, 'bode')"
   ]
  },
  {
   "attachments": {},
   "cell_type": "markdown",
   "metadata": {},
   "source": [
    "## Salida del filtro\n",
    "\n",
    "<font size=4> \n",
    "\n",
    "* Supongamos una señal de $f = 5 Hz \\to x(t) = A*sin(2\\pi*f*t + \\phi)$\n",
    "\n",
    "<font>"
   ]
  },
  {
   "cell_type": "code",
   "execution_count": 34,
   "metadata": {},
   "outputs": [],
   "source": [
    "DURATION = 5.0  # Segs\n",
    "SAMPLE_RATE = 1000 # Hertz\n",
    "AMPL = 6.0\n",
    "PHASE = 0.0\n",
    "\n",
    "#Vector de tiempos\n",
    "t = np.arange(0,DURATION, 1/SAMPLE_RATE)"
   ]
  },
  {
   "cell_type": "code",
   "execution_count": 48,
   "metadata": {},
   "outputs": [
    {
     "data": {
      "text/plain": [
       "[<matplotlib.lines.Line2D at 0x168bc2b90>]"
      ]
     },
     "execution_count": 48,
     "metadata": {},
     "output_type": "execute_result"
    }
   ],
   "source": [
    "FRECUENCY = 5.0 # Hertz\n",
    "#print(t)\n",
    "x1 = AMPL*np.sin(2 * np.pi * FRECUENCY * t + PHASE)\n",
    "#print(y)\n",
    "\n",
    "# Plot de la senal\n",
    "fig1, ax1 = plt.subplots()\n",
    "ax1.set_xlabel(\"Tiempo\", fontsize=16)\n",
    "ax1.set_ylabel(\"Amplitud\", fontsize=16)\n",
    "ax1.grid(True)\n",
    "#ax1.stem(t, x1,use_line_collection = True)\n",
    "ax1.plot(t, x1)"
   ]
  },
  {
   "attachments": {},
   "cell_type": "markdown",
   "metadata": {},
   "source": [
    "<font size=4>\n",
    "\n",
    "Evaluamos la salida del filtro cuando la entrada es ${x}_1$.\n",
    "    \n",
    "    \n",
    "Como vimos la respuesta en frecuencia del filtro es: $H(j\\omega) = \\frac{(2*\\pi*10)}{(j\\omega+2*\\pi*10)}$    \n",
    "    \n",
    "Y recordemos que:\n",
    "\n",
    "$A*sin({\\omega}_1*t+\\theta) \\Longrightarrow |H(j{\\omega}_1)|*A* sin({\\omega}_1*t+\\theta+\\angle H(j{\\omega}_1)) $\n",
    "    \n",
    "\n",
    "Busquemos la magnitud y la fase del filtro para la frecuencia de la senoidal ${\\omega}_1$\n",
    "\n",
    "<font>"
   ]
  },
  {
   "cell_type": "code",
   "execution_count": 36,
   "metadata": {},
   "outputs": [
    {
     "name": "stdout",
     "output_type": "stream",
     "text": [
      "Magnitud Lineal:     0.89. Magnitud en decibeles:    -0.97 [dB]\n",
      "Fase en radianes:    -0.46. Fase en grados:   -26.57 [grad]\n"
     ]
    }
   ],
   "source": [
    "w1 = 2*np.pi*FRECUENCY\n",
    "# Magnitud del filtro a la frecuencia w1\n",
    "FilterMag = np.abs(2*np.pi*10/(1j*w1 + 2*np.pi*10))\n",
    "print(\"Magnitud Lineal: {0:8.2f}. Magnitud en decibeles: {1:8.2f} [dB]\".format(FilterMag,20*np.log10(FilterMag)))\n",
    "\n",
    "# Fase del filtro a la frecuencia w1\n",
    "FilterPhase = np.angle(2*np.pi*10/(1j*w1 + 2*np.pi*10))\n",
    "print(\"Fase en radianes: {0:8.2f}. Fase en grados: {1:8.2f} [grad]\".format(FilterPhase,FilterPhase*180/np.pi))"
   ]
  },
  {
   "cell_type": "code",
   "execution_count": 21,
   "metadata": {},
   "outputs": [
    {
     "name": "stdout",
     "output_type": "stream",
     "text": [
      "-0.014758361765043328\n"
     ]
    }
   ],
   "source": [
    "print(FilterPhase*0.2/(2*np.pi))"
   ]
  },
  {
   "cell_type": "code",
   "execution_count": 37,
   "metadata": {},
   "outputs": [],
   "source": [
    "y1 = FilterMag*AMPL*np.sin((2 * np.pi) * int(FRECUENCY) * t + PHASE + FilterPhase)"
   ]
  },
  {
   "cell_type": "code",
   "execution_count": 47,
   "metadata": {},
   "outputs": [
    {
     "data": {
      "text/plain": [
       "<matplotlib.legend.Legend at 0x14464f760>"
      ]
     },
     "execution_count": 47,
     "metadata": {},
     "output_type": "execute_result"
    }
   ],
   "source": [
    "fig2, ax2 = plt.subplots()\n",
    "ax2.plot(t, x1, t, y1)\n",
    "# add lables\n",
    "ax2.set_xlabel(\"Tiempo\", fontsize=16)\n",
    "ax2.set_ylabel(\"Amplttid\", fontsize=16)\n",
    "ax2.grid(True)\n",
    "ax2.legend(['x1','y1'])"
   ]
  },
  {
   "attachments": {},
   "cell_type": "markdown",
   "metadata": {},
   "source": [
    "<font size=4>\n",
    "\n",
    "* Supongamos una señal de $f = 10 Hz \\to x(t) = A*sin(2\\pi*f*t + \\phi)$\n",
    "\n",
    "<font>"
   ]
  },
  {
   "cell_type": "code",
   "execution_count": 39,
   "metadata": {},
   "outputs": [
    {
     "name": "stdout",
     "output_type": "stream",
     "text": [
      "Magnitud Lineal:     0.71. Magnitud en decibeles:    -3.01 [dB]\n",
      "Fase en radianes:    -0.79. Fase en grados:   -45.00 [grad]\n"
     ]
    }
   ],
   "source": [
    "FRECUENCY = 10.0 # Hertz\n",
    "\n",
    "x2 = AMPL*np.sin((2 * np.pi) * int(FRECUENCY) * t + PHASE)\n",
    "#print(x2)\n",
    "\n",
    "w2 = 2*np.pi*FRECUENCY\n",
    "FilterMag = np.abs(2*np.pi*10/(1j*w2 + 2*np.pi*10))\n",
    "print(\"Magnitud Lineal: {0:8.2f}. Magnitud en decibeles: {1:8.2f} [dB]\".format(FilterMag,20*np.log10(FilterMag)))\n",
    "FilterPhase = np.angle(2*np.pi*10/(1j*w2 + 2*np.pi*10))\n",
    "print(\"Fase en radianes: {0:8.2f}. Fase en grados: {1:8.2f} [grad]\".format(FilterPhase,FilterPhase*180/np.pi))\n",
    "\n",
    "\n",
    "y2 = FilterMag*AMPL*np.sin((2 * np.pi) * int(FRECUENCY) * t + PHASE + FilterPhase)\n",
    "#print(y2)"
   ]
  },
  {
   "cell_type": "code",
   "execution_count": 45,
   "metadata": {},
   "outputs": [
    {
     "data": {
      "text/plain": [
       "<matplotlib.legend.Legend at 0x168acb8e0>"
      ]
     },
     "execution_count": 45,
     "metadata": {},
     "output_type": "execute_result"
    }
   ],
   "source": [
    "fig3, ax3 = plt.subplots()\n",
    "ax3.plot(t, x2, t, y2)\n",
    "# add lables\n",
    "ax3.set_xlabel(\"Tiempo\", fontsize=16)\n",
    "ax3.set_ylabel(\"Amplttid\", fontsize=16)\n",
    "ax3.grid(True)\n",
    "ax3.legend(['x2','y2'])"
   ]
  },
  {
   "attachments": {},
   "cell_type": "markdown",
   "metadata": {},
   "source": [
    "<font size=4>\n",
    "\n",
    "* Supongamos una señal de $f = 100 Hz \\to x(t) = A*sin(2\\pi*f*t + \\phi)$\n",
    "\n",
    "<font>"
   ]
  },
  {
   "cell_type": "code",
   "execution_count": 42,
   "metadata": {},
   "outputs": [
    {
     "name": "stdout",
     "output_type": "stream",
     "text": [
      "Magnitud Lineal:     0.01. Magnitud en decibeles:   -40.00 [dB]\n",
      "Fase en radianes:    -1.56. Fase en grados:   -89.43 [grad]\n"
     ]
    }
   ],
   "source": [
    "DURATION = 1  # Segs\n",
    "SAMPLE_RATE = 50000 # Hertz\n",
    "AMPL = 6.0\n",
    "PHASE = 0.0\n",
    "t3 = np.arange(0,DURATION, 1/SAMPLE_RATE)\n",
    "FRECUENCY = 1000 # Hertz\n",
    "\n",
    "x3 = AMPL*np.sin((2 * np.pi) * int(FRECUENCY) * t3 + PHASE)\n",
    "#print(x3)\n",
    "\n",
    "w3 = 2*np.pi*FRECUENCY\n",
    "FilterMag = np.abs(2*np.pi*10/(1j*w3 + 2*np.pi*10))\n",
    "print(\"Magnitud Lineal: {0:8.2f}. Magnitud en decibeles: {1:8.2f} [dB]\".format(FilterMag,20*np.log10(FilterMag)))\n",
    "FilterPhase = np.angle(2*np.pi*10/(1j*w3 + 2*np.pi*10))\n",
    "print(\"Fase en radianes: {0:8.2f}. Fase en grados: {1:8.2f} [grad]\".format(FilterPhase,FilterPhase*180/np.pi))\n",
    "\n",
    "\n",
    "y3 = FilterMag*AMPL*np.sin((2 * np.pi) * int(FRECUENCY) * t3 + PHASE + FilterPhase)\n",
    "#print(y2)"
   ]
  },
  {
   "cell_type": "code",
   "execution_count": 46,
   "metadata": {},
   "outputs": [
    {
     "data": {
      "text/plain": [
       "<matplotlib.legend.Legend at 0x1445e2830>"
      ]
     },
     "execution_count": 46,
     "metadata": {},
     "output_type": "execute_result"
    }
   ],
   "source": [
    "fig4, ax4 = plt.subplots()\n",
    "ax4.plot(t3, x3, t3, y3)\n",
    "# add lables\n",
    "ax4.set_xlabel(\"Tiempo\", fontsize=16)\n",
    "ax4.set_ylabel(\"Amplttid\", fontsize=16)\n",
    "ax4.grid(True)\n",
    "ax4.legend(['x3','y3'])"
   ]
  },
  {
   "cell_type": "code",
   "execution_count": 44,
   "metadata": {},
   "outputs": [
    {
     "data": {
      "text/plain": [
       "<matplotlib.legend.Legend at 0x168a23280>"
      ]
     },
     "execution_count": 44,
     "metadata": {},
     "output_type": "execute_result"
    }
   ],
   "source": [
    "fig5, ax5 = plt.subplots()\n",
    "ax5.plot(t,y1, t,y2, t3, y3)\n",
    "# add lables\n",
    "ax5.set_xlabel(\"Tiempo\", fontsize=16)\n",
    "ax5.set_ylabel(\"Amplttid\", fontsize=16)\n",
    "ax5.grid(True)\n",
    "ax5.legend(['y1','y2','y3'])"
   ]
  }
 ],
 "metadata": {
  "kernelspec": {
   "display_name": "Python 3 (ipykernel)",
   "language": "python",
   "name": "python3"
  },
  "language_info": {
   "codemirror_mode": {
    "name": "ipython",
    "version": 3
   },
   "file_extension": ".py",
   "mimetype": "text/x-python",
   "name": "python",
   "nbconvert_exporter": "python",
   "pygments_lexer": "ipython3",
   "version": "3.10.13"
  }
 },
 "nbformat": 4,
 "nbformat_minor": 4
}
